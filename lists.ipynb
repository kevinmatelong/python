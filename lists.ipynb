{
 "cells": [
  {
   "cell_type": "markdown",
   "metadata": {},
   "source": [
    "### Lists"
   ]
  },
  {
   "cell_type": "markdown",
   "metadata": {},
   "source": [
    "# Updating a list"
   ]
  },
  {
   "cell_type": "markdown",
   "metadata": {},
   "source": [
    "insert() method"
   ]
  },
  {
   "cell_type": "markdown",
   "metadata": {},
   "source": [
    "append() method"
   ]
  },
  {
   "cell_type": "code",
   "execution_count": 4,
   "metadata": {},
   "outputs": [
    {
     "name": "stdout",
     "output_type": "stream",
     "text": [
      "['Hey', 'Hello', 'Hi', 'Howdy', 'mouse']\n"
     ]
    }
   ],
   "source": [
    "spam = ['Hello','Hi','Howdy']\n",
    "spam.append('mouse')\n",
    "spam.insert(0,'Hey')\n",
    "print(spam)"
   ]
  },
  {
   "cell_type": "markdown",
   "metadata": {},
   "source": [
    "# Removing values in a list\n"
   ]
  },
  {
   "cell_type": "code",
   "execution_count": 6,
   "metadata": {},
   "outputs": [
    {
     "name": "stdout",
     "output_type": "stream",
     "text": [
      "['elephant', 'mangoose']\n"
     ]
    }
   ],
   "source": [
    "spam = ['cat','bat','elephant','mangoose']\n",
    "spam.remove('cat')\n",
    "del spam[0]\n",
    "print(spam)"
   ]
  },
  {
   "cell_type": "markdown",
   "metadata": {},
   "source": [
    "# Sorting values in a list\n",
    "\n",
    "spam.sort() method"
   ]
  },
  {
   "cell_type": "code",
   "execution_count": 12,
   "metadata": {},
   "outputs": [
    {
     "name": "stdout",
     "output_type": "stream",
     "text": [
      "['Orange', 'apple', 'banana', 'mango', 'pears']\n",
      "['apple', 'banana', 'mango', 'Orange', 'pears']\n"
     ]
    }
   ],
   "source": [
    "spam = ['apple','mango','banana','Orange','pears']\n",
    "spam.sort()\n",
    "print(spam)\n",
    "spam.sort(key = str.lower)\n",
    "print(spam)\n",
    "\n"
   ]
  },
  {
   "cell_type": "markdown",
   "metadata": {},
   "source": [
    "# Reverse sorted values"
   ]
  },
  {
   "cell_type": "code",
   "execution_count": 16,
   "metadata": {},
   "outputs": [
    {
     "name": "stdout",
     "output_type": "stream",
     "text": [
      "['apple', 'banana', 'mango', 'Orange', 'pears']\n",
      "['pears', 'mango', 'banana', 'apple', 'Orange']\n"
     ]
    }
   ],
   "source": [
    "spam = ['apple','mango','banana','Orange','pears']\n",
    "spam.sort(key=str.lower)\n",
    "print(spam)\n",
    "spam.sort(reverse=True)\n",
    "print(spam)\n"
   ]
  },
  {
   "cell_type": "markdown",
   "metadata": {},
   "source": [
    "# Converting tiple to lists"
   ]
  },
  {
   "cell_type": "code",
   "execution_count": 17,
   "metadata": {},
   "outputs": [
    {
     "name": "stdout",
     "output_type": "stream",
     "text": [
      "['Honda', 'Mazda', 'Nissan', 'Toyota']\n"
     ]
    }
   ],
   "source": [
    "tup = ('Honda','Mazda','Nissan','Toyota')\n",
    "spam = list(tup)\n",
    "print(spam)"
   ]
  },
  {
   "cell_type": "markdown",
   "metadata": {},
   "source": [
    "# count() method"
   ]
  },
  {
   "cell_type": "code",
   "execution_count": 18,
   "metadata": {},
   "outputs": [
    {
     "name": "stdout",
     "output_type": "stream",
     "text": [
      "2\n"
     ]
    }
   ],
   "source": [
    "spam = ['man','mouse','rat','rabbit','lion','man']\n",
    "print(spam.count('man'))"
   ]
  },
  {
   "cell_type": "markdown",
   "metadata": {},
   "source": [
    "# extend() method"
   ]
  },
  {
   "cell_type": "code",
   "execution_count": 20,
   "metadata": {},
   "outputs": [
    {
     "name": "stdout",
     "output_type": "stream",
     "text": [
      "['Hello', 'Hi', 'Howdy', 'Heyas', 1, 2, 3, 4]\n"
     ]
    }
   ],
   "source": [
    "spam = ['Hello','Hi','Howdy','Heyas']\n",
    "spam2 = [1,2,3,4]\n",
    "spam.extend(spam2)\n",
    "print(spam)"
   ]
  },
  {
   "cell_type": "markdown",
   "metadata": {},
   "source": [
    "# index() method"
   ]
  },
  {
   "cell_type": "code",
   "execution_count": 1,
   "metadata": {},
   "outputs": [
    {
     "name": "stdout",
     "output_type": "stream",
     "text": [
      "1\n"
     ]
    }
   ],
   "source": [
    "spam = ['apple','mango','banana','Orange','pears']\n",
    "print(spam.index('mango'))"
   ]
  },
  {
   "cell_type": "markdown",
   "metadata": {},
   "source": [
    "# pop() method"
   ]
  },
  {
   "cell_type": "code",
   "execution_count": 2,
   "metadata": {},
   "outputs": [
    {
     "name": "stdout",
     "output_type": "stream",
     "text": [
      "['apple', 'mango', 'banana', 'Orange']\n"
     ]
    }
   ],
   "source": [
    "spam = ['apple','mango','banana','Orange','pears']\n",
    "spam.pop()\n",
    "print(spam)"
   ]
  },
  {
   "cell_type": "markdown",
   "metadata": {},
   "source": [
    "remove() method"
   ]
  },
  {
   "cell_type": "code",
   "execution_count": 3,
   "metadata": {},
   "outputs": [
    {
     "name": "stdout",
     "output_type": "stream",
     "text": [
      "['mango', 'banana', 'Orange', 'pears']\n"
     ]
    }
   ],
   "source": [
    "spam = ['apple','mango','banana','Orange','pears']\n",
    "spam.remove('apple')\n",
    "print(spam)"
   ]
  }
 ],
 "metadata": {
  "kernelspec": {
   "display_name": "Python 3.10.6 64-bit",
   "language": "python",
   "name": "python3"
  },
  "language_info": {
   "codemirror_mode": {
    "name": "ipython",
    "version": 3
   },
   "file_extension": ".py",
   "mimetype": "text/x-python",
   "name": "python",
   "nbconvert_exporter": "python",
   "pygments_lexer": "ipython3",
   "version": "3.10.6"
  },
  "orig_nbformat": 4,
  "vscode": {
   "interpreter": {
    "hash": "916dbcbb3f70747c44a77c7bcd40155683ae19c65e1c03b4aa3499c5328201f1"
   }
  }
 },
 "nbformat": 4,
 "nbformat_minor": 2
}
