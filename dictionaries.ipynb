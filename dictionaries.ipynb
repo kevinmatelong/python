{
 "cells": [
  {
   "cell_type": "markdown",
   "metadata": {},
   "source": [
    "# Dictionaries"
   ]
  },
  {
   "cell_type": "code",
   "execution_count": 1,
   "metadata": {},
   "outputs": [
    {
     "name": "stdout",
     "output_type": "stream",
     "text": [
      "Kevin\n"
     ]
    }
   ],
   "source": [
    "dict = {'name':'Kevin','Age': 21,'class':'First'}\n",
    "print(dict['name'])"
   ]
  },
  {
   "cell_type": "markdown",
   "metadata": {},
   "source": [
    "# Updating a dictionary"
   ]
  },
  {
   "cell_type": "code",
   "execution_count": 2,
   "metadata": {},
   "outputs": [
    {
     "name": "stdout",
     "output_type": "stream",
     "text": [
      "{'name': 'Kevin', 'Age': 21, 'class': 'First', 'school': 'Home Schooling'}\n"
     ]
    }
   ],
   "source": [
    "dict = {'name':'Kevin','Age': 21,'class':'First'}\n",
    "dict['school'] = 'Home Schooling'\n",
    "print(dict)"
   ]
  },
  {
   "cell_type": "markdown",
   "metadata": {},
   "source": [
    "# Deleting dictionary elements"
   ]
  },
  {
   "cell_type": "code",
   "execution_count": 5,
   "metadata": {},
   "outputs": [
    {
     "name": "stdout",
     "output_type": "stream",
     "text": [
      "{'Age': 21, 'class': 'First'}\n",
      "{}\n",
      "<class 'dict'>\n"
     ]
    }
   ],
   "source": [
    "dict = {'name':'Kevin','Age': 21,'class':'First'}\n",
    "del dict['name']\n",
    "print(dict)\n",
    "dict.clear()\n",
    "print(dict)\n",
    "del dict\n",
    "print(dict)"
   ]
  },
  {
   "cell_type": "markdown",
   "metadata": {},
   "source": [
    "# len(dict)"
   ]
  },
  {
   "cell_type": "code",
   "execution_count": 1,
   "metadata": {},
   "outputs": [
    {
     "name": "stdout",
     "output_type": "stream",
     "text": [
      "3\n"
     ]
    }
   ],
   "source": [
    "dict = {'name':'Kevin','Age': 21,'class':'First'}\n",
    "print(len(dict))"
   ]
  },
  {
   "cell_type": "markdown",
   "metadata": {},
   "source": [
    "# str(dict)"
   ]
  },
  {
   "cell_type": "code",
   "execution_count": 6,
   "metadata": {},
   "outputs": [
    {
     "data": {
      "text/plain": [
       "\"{'name': 'Kevin', 'Age': 21, 'class': 'First'}\""
      ]
     },
     "execution_count": 6,
     "metadata": {},
     "output_type": "execute_result"
    }
   ],
   "source": [
    "dict = {'name':'Kevin','Age': 21,'class':'First'}\n",
    "str(dict)"
   ]
  },
  {
   "cell_type": "markdown",
   "metadata": {},
   "source": [
    "# type(dict)"
   ]
  },
  {
   "cell_type": "code",
   "execution_count": 8,
   "metadata": {},
   "outputs": [
    {
     "name": "stdout",
     "output_type": "stream",
     "text": [
      "<class 'dict'>\n"
     ]
    }
   ],
   "source": [
    "dict = {'name':'Kevin','Age': 21,'class':'First'}\n",
    "print(type(dict))"
   ]
  },
  {
   "cell_type": "markdown",
   "metadata": {},
   "source": [
    "# dict.clear()"
   ]
  },
  {
   "cell_type": "code",
   "execution_count": 12,
   "metadata": {},
   "outputs": [
    {
     "name": "stdout",
     "output_type": "stream",
     "text": [
      "{}\n"
     ]
    }
   ],
   "source": [
    "dict = {'name':'Kevin','Age': 21,'class':'First'}\n",
    "dict.clear()\n",
    "print(dict)"
   ]
  },
  {
   "cell_type": "markdown",
   "metadata": {},
   "source": [
    "# dict.copy()"
   ]
  },
  {
   "cell_type": "code",
   "execution_count": 13,
   "metadata": {},
   "outputs": [
    {
     "name": "stdout",
     "output_type": "stream",
     "text": [
      "{'name': 'Kevin', 'Age': 21, 'class': 'First'}\n"
     ]
    }
   ],
   "source": [
    "dict = {'name':'Kevin','Age': 21,'class':'First'}\n",
    "dict2 = dict.copy()\n",
    "print(dict2)"
   ]
  },
  {
   "cell_type": "markdown",
   "metadata": {},
   "source": [
    "# Dictionary from keys() method"
   ]
  },
  {
   "cell_type": "code",
   "execution_count": 15,
   "metadata": {},
   "outputs": [
    {
     "name": "stdout",
     "output_type": "stream",
     "text": [
      "{'name': None, 'Age': None, 'Class': None}\n"
     ]
    }
   ],
   "source": [
    "list1 = ('name','Age','Class')\n",
    "dict = dict.fromkeys(list1)\n",
    "print(dict)"
   ]
  },
  {
   "cell_type": "markdown",
   "metadata": {},
   "source": [
    "# get() method"
   ]
  },
  {
   "cell_type": "code",
   "execution_count": 2,
   "metadata": {},
   "outputs": [
    {
     "name": "stdout",
     "output_type": "stream",
     "text": [
      "Kevin\n",
      "None\n",
      "white\n"
     ]
    }
   ],
   "source": [
    "dict = {'name':'Kevin','Age': 21,'class':'First'}\n",
    "print(dict.get('name'))\n",
    "print(dict.get('color'))\n",
    "print(dict.get('color','white'))\n"
   ]
  },
  {
   "cell_type": "markdown",
   "metadata": {},
   "source": [
    "# dict.keys()"
   ]
  },
  {
   "cell_type": "code",
   "execution_count": 22,
   "metadata": {},
   "outputs": [
    {
     "name": "stdout",
     "output_type": "stream",
     "text": [
      "dict_keys(['name', 'Age', 'class'])\n",
      "dict_items([('name', 'Kevin'), ('Age', 21), ('class', 'First')])\n",
      "dict_values(['Kevin', 21, 'First'])\n"
     ]
    }
   ],
   "source": [
    "dict = {'name':'Kevin','Age': 21,'class':'First'}\n",
    "print(dict.keys())"
   ]
  },
  {
   "cell_type": "markdown",
   "metadata": {},
   "source": [
    "# dict.values()"
   ]
  },
  {
   "cell_type": "code",
   "execution_count": 23,
   "metadata": {},
   "outputs": [
    {
     "name": "stdout",
     "output_type": "stream",
     "text": [
      "dict_values(['Kevin', 21, 'First'])\n"
     ]
    }
   ],
   "source": [
    "dict = {'name':'Kevin','Age': 21,'class':'First'}\n",
    "print(dict.values())\n"
   ]
  },
  {
   "cell_type": "markdown",
   "metadata": {},
   "source": [
    "# dict.items()"
   ]
  },
  {
   "cell_type": "code",
   "execution_count": 32,
   "metadata": {},
   "outputs": [
    {
     "name": "stdout",
     "output_type": "stream",
     "text": [
      "dict_items([('name', 'Kevin'), ('Age', 21), ('class', 'First')])\n"
     ]
    }
   ],
   "source": [
    "dict = {'name':'Kevin','Age': 21,'class':'First'}\n",
    "print(dict.items())\n"
   ]
  },
  {
   "cell_type": "markdown",
   "metadata": {},
   "source": [
    "# setdefault() method"
   ]
  },
  {
   "cell_type": "code",
   "execution_count": 27,
   "metadata": {},
   "outputs": [
    {
     "name": "stdout",
     "output_type": "stream",
     "text": [
      "{'name': 'Kevin', 'Age': 21, 'class': 'First'}\n",
      "{'name': 'Kevin', 'Age': 21, 'class': 'First', 'sex': 'None'}\n"
     ]
    }
   ],
   "source": [
    "dict = {'name':'Kevin','Age': 21,'class':'First'}\n",
    "dict.setdefault('name','None')\n",
    "print(dict)\n",
    "dict.setdefault('sex','None')\n",
    "print(dict)"
   ]
  },
  {
   "cell_type": "markdown",
   "metadata": {},
   "source": [
    "# dict.update() method"
   ]
  },
  {
   "cell_type": "code",
   "execution_count": 31,
   "metadata": {},
   "outputs": [
    {
     "name": "stdout",
     "output_type": "stream",
     "text": [
      "{'name': 'Kevin', 'Age': 21, 'class': 'First', 'School': 'Jkuat', 'Spouse': 'None'}\n",
      "{'name': 'Kevin', 'Age': 21, 'class': 'First', 'School': 'Jkuat', 'Spouse': 'None', 'What': 'None'}\n"
     ]
    }
   ],
   "source": [
    "dict = {'name':'Kevin','Age': 21,'class':'First'}\n",
    "dict2= {'School':'Jkuat','Spouse':'None'}\n",
    "dict.update(dict2)\n",
    "print(dict)"
   ]
  }
 ],
 "metadata": {
  "kernelspec": {
   "display_name": "Python 3.10.6 64-bit",
   "language": "python",
   "name": "python3"
  },
  "language_info": {
   "codemirror_mode": {
    "name": "ipython",
    "version": 3
   },
   "file_extension": ".py",
   "mimetype": "text/x-python",
   "name": "python",
   "nbconvert_exporter": "python",
   "pygments_lexer": "ipython3",
   "version": "3.10.6"
  },
  "orig_nbformat": 4,
  "vscode": {
   "interpreter": {
    "hash": "916dbcbb3f70747c44a77c7bcd40155683ae19c65e1c03b4aa3499c5328201f1"
   }
  }
 },
 "nbformat": 4,
 "nbformat_minor": 2
}
